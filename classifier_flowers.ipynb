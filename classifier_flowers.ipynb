{
 "cells": [
  {
   "cell_type": "markdown",
   "id": "0aed5192",
   "metadata": {},
   "source": [
    "# Image Classification of Flowers\n",
    "\n",
    "The goal of this project is to classify flowers. The dataset used is the [Oxford_flower102](https://www.robots.ox.ac.uk/~vgg/data/flowers/102/).\n",
    "\n",
    "The project is broken down into the following steps:\n",
    "\n",
    "- Load and prepare image dataset.\n",
    "- Build and Train an image classifier on this dataset.\n",
    "- Use the trained model to make predictions on the validation set of images."
   ]
  },
  {
   "cell_type": "code",
   "execution_count": 1,
   "id": "043f01b3",
   "metadata": {},
   "outputs": [
    {
     "name": "stdout",
     "output_type": "stream",
     "text": [
      "Num GPUs Available:  1\n",
      "Libraries Imported\n"
     ]
    }
   ],
   "source": [
    "#importing all libraries needed\n",
    "import numpy as np\n",
    "import matplotlib.pyplot as plt\n",
    "import pandas as pd\n",
    "import os, pathlib, glob\n",
    "from collections import Counter\n",
    "\n",
    "from sklearn.model_selection import train_test_split\n",
    "from sklearn.preprocessing import OneHotEncoder\n",
    "\n",
    "import tensorflow as tf\n",
    "from tensorflow import keras\n",
    "from tensorflow.python.keras.models import Sequential\n",
    "from tensorflow.keras.layers import Conv2D, MaxPooling2D, Dropout, Flatten, Dense\n",
    "\n",
    "from PIL import Image\n",
    "\n",
    "print('Num GPUs Available: ', len(tf.config.experimental.list_physical_devices('GPU')))\n",
    "print('Libraries Imported')\n"
   ]
  },
  {
   "cell_type": "markdown",
   "id": "c2194102",
   "metadata": {},
   "source": [
    "## Load and Prepare Dataset\n",
    "\n",
    "1. Load Dataset\n",
    "2. Create image and label lists\n",
    "3. Standarize images\n",
    "4. Organize images in test, validation and train sets\n"
   ]
  },
  {
   "cell_type": "code",
   "execution_count": 2,
   "id": "e28d9434",
   "metadata": {},
   "outputs": [],
   "source": [
    "#importing dataset images\n",
    "dataset_url = 'https://storage.googleapis.com/download.tensorflow.org/example_images/flower_photos.tgz'\n",
    "data_dir = tf.keras.utils.get_file('flower_photos', origin=dataset_url, untar=True)\n",
    "data_dir = pathlib.Path(data_dir)\n"
   ]
  },
  {
   "cell_type": "code",
   "execution_count": 3,
   "id": "c91c7661",
   "metadata": {},
   "outputs": [
    {
     "name": "stdout",
     "output_type": "stream",
     "text": [
      "3670\n"
     ]
    }
   ],
   "source": [
    "#counting total number of images\n",
    "image_count = len(list(data_dir.glob('*/*.jpg')))\n",
    "print(image_count)"
   ]
  },
  {
   "cell_type": "code",
   "execution_count": 4,
   "id": "1b9031fe",
   "metadata": {},
   "outputs": [
    {
     "name": "stdout",
     "output_type": "stream",
     "text": [
      "Files and Directories in 'C:\\Users\\luisa\\.keras\\datasets\\flower_photos':\n",
      "['daisy', 'dandelion', 'roses', 'sunflowers', 'tulips']\n"
     ]
    }
   ],
   "source": [
    "#searching for all folders (labels) inside dataset\n",
    "obj = os.scandir(data_dir)\n",
    "\n",
    "print(\"Files and Directories in '% s':\" % data_dir)\n",
    "\n",
    "label_names = []\n",
    "for folder in obj :\n",
    "    if folder.is_dir():\n",
    "        label_names.append(folder.name)\n",
    "\n",
    "print(label_names)\n"
   ]
  },
  {
   "cell_type": "code",
   "execution_count": 5,
   "id": "fd8c055c",
   "metadata": {},
   "outputs": [],
   "source": [
    "image_list = []\n",
    "image_labels_list = []\n",
    "dim = (100, 100)\n",
    "\n",
    "#selecting every image inside for each folder (label)\n",
    "for i in range(len(label_names)):\n",
    "    paths = list(data_dir.glob(label_names[i] + '/*'))\n",
    "    for path in paths: #saving image in a list and the label in another list ensuring same length\n",
    "        image_labels_list.append(label_names[i]) \n",
    "        prov_img = Image.open(path)\n",
    "        prov_img = prov_img.resize(dim) #resizing images to square 100x100 size\n",
    "        image_list.append(np.asarray(prov_img)) #saving images as array\n",
    "        \n",
    "#normalizing images\n",
    "image_labels_array = np.array(image_labels_list)\n",
    "image_array = np.array(image_list)/255.0\n"
   ]
  },
  {
   "cell_type": "code",
   "execution_count": 6,
   "id": "4780aef4",
   "metadata": {
    "scrolled": true
   },
   "outputs": [
    {
     "data": {
      "text/plain": [
       "((3670,), (3670, 100, 100, 3))"
      ]
     },
     "execution_count": 6,
     "metadata": {},
     "output_type": "execute_result"
    }
   ],
   "source": [
    "#inspecting arrays\n",
    "image_labels_array.shape, image_array.shape\n"
   ]
  },
  {
   "cell_type": "code",
   "execution_count": 7,
   "id": "17694deb",
   "metadata": {},
   "outputs": [
    {
     "name": "stdout",
     "output_type": "stream",
     "text": [
      "dict_keys(['daisy', 'dandelion', 'roses', 'sunflowers', 'tulips'])\n",
      "dict_values([633, 898, 641, 699, 799])\n"
     ]
    }
   ],
   "source": [
    "#printing label names and respective image count\n",
    "print(Counter(image_labels_array).keys()) # equals to list(set(words))\n",
    "print(Counter(image_labels_array).values()) # counts the elements' frequency\n"
   ]
  },
  {
   "cell_type": "code",
   "execution_count": 8,
   "id": "cfe927ac",
   "metadata": {},
   "outputs": [],
   "source": [
    "#splitting dataset to test and train; #splitting test data in half for testing and validation\n",
    "X_train, X_test, y_train, y_test = train_test_split(image_array, image_labels_array, test_size = 0.30, random_state=42)\n",
    "X_test, X_val, y_test, y_val = train_test_split(X_test, y_test, test_size = 0.50, random_state=42)\n"
   ]
  },
  {
   "cell_type": "code",
   "execution_count": 9,
   "id": "b23d4cd0",
   "metadata": {
    "scrolled": false
   },
   "outputs": [
    {
     "data": {
      "text/plain": [
       "((550, 100, 100, 3), (551, 100, 100, 3), (2569, 100, 100, 3))"
      ]
     },
     "execution_count": 9,
     "metadata": {},
     "output_type": "execute_result"
    }
   ],
   "source": [
    "#ensuring the test, validation and train shape is correct\n",
    "X_test.shape, X_val.shape, X_train.shape\n"
   ]
  },
  {
   "cell_type": "code",
   "execution_count": 10,
   "id": "a1780c29",
   "metadata": {},
   "outputs": [],
   "source": [
    "#preparing labels data\n",
    "def prepare_labels(y_train, y_test, y_val):\n",
    "    #creating labels dataframe\n",
    "    df_y_train = pd.DataFrame({'Train Labels':y_train})\n",
    "    df_y_test = pd.DataFrame({'Test Labels':y_test})\n",
    "    df_y_val = pd.DataFrame({'Validation Labels':y_val})\n",
    "    #performing One Hot Encoding\n",
    "    ohe_style = OneHotEncoder()\n",
    "    #train\n",
    "    ohe_train = ohe_style.fit_transform(df_y_train)\n",
    "    df_ohe_train=pd.DataFrame(ohe_train.toarray(), columns=ohe_style.categories_)\n",
    "    array_ohe_train=df_ohe_train.to_numpy()\n",
    "    #test\n",
    "    ohe_test = ohe_style.fit_transform(df_y_test)\n",
    "    df_ohe_test=pd.DataFrame(ohe_test.toarray(), columns=ohe_style.categories_)\n",
    "    array_ohe_test=df_ohe_test.to_numpy()\n",
    "    #val\n",
    "    ohe_val = ohe_style.fit_transform(df_y_val)\n",
    "    df_ohe_val=pd.DataFrame(ohe_val.toarray(), columns=ohe_style.categories_)\n",
    "    array_ohe_val=df_ohe_val.to_numpy()\n",
    "    return array_ohe_train,array_ohe_test,array_ohe_val\n",
    "\n",
    "array_ohe_train, array_ohe_test, array_ohe_val = prepare_labels(y_train, y_test,y_val)\n"
   ]
  },
  {
   "cell_type": "markdown",
   "id": "9ff2d49d",
   "metadata": {},
   "source": [
    "## Create Model"
   ]
  },
  {
   "cell_type": "code",
   "execution_count": 11,
   "id": "9215abae",
   "metadata": {},
   "outputs": [],
   "source": [
    "#starting model\n",
    "model = tf.keras.Sequential()\n",
    "\n",
    "    #add convolution filters\n",
    "model.add(Conv2D(16, (3, 3), activation='relu', input_shape=(100, 100, 3)))\n",
    "model.add(Conv2D(32, (3, 3), activation='relu'))\n",
    "model.add(Conv2D(64, (3, 3), activation='relu'))\n",
    "    #choose the best features via pooling\n",
    "model.add(MaxPooling2D(pool_size=(2, 2)))\n",
    "    #randomly turn neurons on and off\n",
    "model.add(Dropout(0.25))\n",
    "    #flatten for a classification output\n",
    "model.add(Flatten())\n",
    "    #get all relevant data\n",
    "model.add(Dense(128, activation='relu'))\n",
    "model.add(Dropout(0.5))\n",
    "    #output probabilities, 5 different answers (labels)\n",
    "model.add(Dense(5, activation='softmax'))\n"
   ]
  },
  {
   "cell_type": "code",
   "execution_count": 12,
   "id": "b4798b9b",
   "metadata": {
    "scrolled": true
   },
   "outputs": [
    {
     "name": "stdout",
     "output_type": "stream",
     "text": [
      "Model: \"sequential\"\n",
      "_________________________________________________________________\n",
      "Layer (type)                 Output Shape              Param #   \n",
      "=================================================================\n",
      "conv2d (Conv2D)              (None, 98, 98, 16)        448       \n",
      "_________________________________________________________________\n",
      "conv2d_1 (Conv2D)            (None, 96, 96, 32)        4640      \n",
      "_________________________________________________________________\n",
      "conv2d_2 (Conv2D)            (None, 94, 94, 64)        18496     \n",
      "_________________________________________________________________\n",
      "max_pooling2d (MaxPooling2D) (None, 47, 47, 64)        0         \n",
      "_________________________________________________________________\n",
      "dropout (Dropout)            (None, 47, 47, 64)        0         \n",
      "_________________________________________________________________\n",
      "flatten (Flatten)            (None, 141376)            0         \n",
      "_________________________________________________________________\n",
      "dense (Dense)                (None, 128)               18096256  \n",
      "_________________________________________________________________\n",
      "dropout_1 (Dropout)          (None, 128)               0         \n",
      "_________________________________________________________________\n",
      "dense_1 (Dense)              (None, 5)                 645       \n",
      "=================================================================\n",
      "Total params: 18,120,485\n",
      "Trainable params: 18,120,485\n",
      "Non-trainable params: 0\n",
      "_________________________________________________________________\n"
     ]
    }
   ],
   "source": [
    "#defining optimizer learning rate\n",
    "opt = keras.optimizers.Adam(learning_rate=5e-4)\n",
    "\n",
    "#compiling model\n",
    "model.compile(loss='categorical_crossentropy', \n",
    "                   optimizer=opt,\n",
    "                   metrics=['accuracy'])\n",
    "\n",
    "#inspecting model\n",
    "model.summary()\n"
   ]
  },
  {
   "cell_type": "markdown",
   "id": "f40b04ff",
   "metadata": {},
   "source": [
    "## Train Model"
   ]
  },
  {
   "cell_type": "code",
   "execution_count": 13,
   "id": "79bb3624",
   "metadata": {
    "scrolled": true
   },
   "outputs": [
    {
     "name": "stdout",
     "output_type": "stream",
     "text": [
      "Epoch 1/100\n",
      "81/81 [==============================] - 7s 26ms/step - loss: 1.4945 - accuracy: 0.3928 - val_loss: 1.1662 - val_accuracy: 0.5082\n",
      "Epoch 2/100\n",
      "81/81 [==============================] - 2s 19ms/step - loss: 1.1683 - accuracy: 0.5123 - val_loss: 1.1104 - val_accuracy: 0.5172\n",
      "Epoch 3/100\n",
      "81/81 [==============================] - 2s 19ms/step - loss: 1.0468 - accuracy: 0.5761 - val_loss: 1.0100 - val_accuracy: 0.5989\n",
      "Epoch 4/100\n",
      "81/81 [==============================] - 1s 18ms/step - loss: 0.8709 - accuracy: 0.6672 - val_loss: 0.9497 - val_accuracy: 0.6243\n",
      "Epoch 5/100\n",
      "81/81 [==============================] - 2s 19ms/step - loss: 0.7279 - accuracy: 0.7322 - val_loss: 1.0165 - val_accuracy: 0.6225\n",
      "Epoch 6/100\n",
      "81/81 [==============================] - 1s 18ms/step - loss: 0.5868 - accuracy: 0.7886 - val_loss: 1.0846 - val_accuracy: 0.5989\n",
      "Epoch 7/100\n",
      "81/81 [==============================] - 2s 19ms/step - loss: 0.4448 - accuracy: 0.8494 - val_loss: 1.0122 - val_accuracy: 0.6388\n",
      "Epoch 8/100\n",
      "81/81 [==============================] - 2s 19ms/step - loss: 0.3376 - accuracy: 0.8817 - val_loss: 1.1532 - val_accuracy: 0.6388\n",
      "Epoch 9/100\n",
      "81/81 [==============================] - 2s 19ms/step - loss: 0.2917 - accuracy: 0.9046 - val_loss: 1.1693 - val_accuracy: 0.6189\n",
      "Epoch 10/100\n",
      "81/81 [==============================] - 2s 19ms/step - loss: 0.2576 - accuracy: 0.9151 - val_loss: 1.2644 - val_accuracy: 0.6171\n",
      "Epoch 11/100\n",
      "81/81 [==============================] - 2s 19ms/step - loss: 0.1956 - accuracy: 0.9342 - val_loss: 1.3412 - val_accuracy: 0.6062\n",
      "Epoch 12/100\n",
      "81/81 [==============================] - 2s 19ms/step - loss: 0.1533 - accuracy: 0.9486 - val_loss: 1.3834 - val_accuracy: 0.6189\n",
      "Epoch 13/100\n",
      "81/81 [==============================] - 2s 19ms/step - loss: 0.1312 - accuracy: 0.9560 - val_loss: 1.7665 - val_accuracy: 0.5862\n",
      "Epoch 14/100\n",
      "81/81 [==============================] - 2s 19ms/step - loss: 0.1473 - accuracy: 0.9416 - val_loss: 1.5518 - val_accuracy: 0.6443\n",
      "Epoch 15/100\n",
      "81/81 [==============================] - 2s 19ms/step - loss: 0.1282 - accuracy: 0.9560 - val_loss: 1.8905 - val_accuracy: 0.6261\n",
      "Epoch 16/100\n",
      "81/81 [==============================] - 2s 19ms/step - loss: 0.1206 - accuracy: 0.9580 - val_loss: 1.5744 - val_accuracy: 0.6044\n",
      "Epoch 17/100\n",
      "81/81 [==============================] - 2s 19ms/step - loss: 0.0957 - accuracy: 0.9704 - val_loss: 1.5501 - val_accuracy: 0.6334\n",
      "Epoch 18/100\n",
      "81/81 [==============================] - 2s 19ms/step - loss: 0.0991 - accuracy: 0.9599 - val_loss: 1.5861 - val_accuracy: 0.6134\n",
      "Epoch 19/100\n",
      "81/81 [==============================] - 2s 19ms/step - loss: 0.0888 - accuracy: 0.9692 - val_loss: 1.8391 - val_accuracy: 0.6098\n",
      "Epoch 20/100\n",
      "81/81 [==============================] - 2s 19ms/step - loss: 0.0879 - accuracy: 0.9685 - val_loss: 1.6547 - val_accuracy: 0.6207\n",
      "Epoch 21/100\n",
      "81/81 [==============================] - 2s 19ms/step - loss: 0.0799 - accuracy: 0.9700 - val_loss: 1.9125 - val_accuracy: 0.5953\n",
      "Epoch 22/100\n",
      "81/81 [==============================] - 2s 19ms/step - loss: 0.0836 - accuracy: 0.9708 - val_loss: 1.5055 - val_accuracy: 0.6515\n",
      "Epoch 23/100\n",
      "81/81 [==============================] - 2s 19ms/step - loss: 0.0722 - accuracy: 0.9755 - val_loss: 1.7950 - val_accuracy: 0.6243\n",
      "Epoch 24/100\n",
      "81/81 [==============================] - 2s 19ms/step - loss: 0.0610 - accuracy: 0.9778 - val_loss: 1.8174 - val_accuracy: 0.6189\n",
      "Training completed\n"
     ]
    }
   ],
   "source": [
    "#training model\n",
    "if tf.config.list_physical_devices('GPU'):\n",
    "    early_stopping = tf.keras.callbacks.EarlyStopping(monitor='val_loss', patience=20, mode='min') #setting early stop\n",
    "    history = model.fit(x=X_train, y=array_ohe_train, epochs = 100,\n",
    "                        validation_data = (X_val, array_ohe_val),\n",
    "                        callbacks = [early_stopping],\n",
    "                       workers=-1)\n",
    "\n",
    "else:\n",
    "    history = model.fit(X_train, asd, epochs=5)\n",
    "\n",
    "print(\"Training completed\")"
   ]
  },
  {
   "cell_type": "code",
   "execution_count": 14,
   "id": "5086b6f2",
   "metadata": {},
   "outputs": [
    {
     "data": {
      "image/png": "[encoded data removed]",
      "text/plain": [
       "<Figure size 720x720 with 2 Axes>"
      ]
     },
     "metadata": {
      "needs_background": "light"
     },
     "output_type": "display_data"
    }
   ],
   "source": [
    "#plotting training results\n",
    "fig, plpl = plt.subplots(ncols=2, figsize=(10,10))\n",
    "plpl[0].plot(history.history['loss'], label='Training Loss')\n",
    "plpl[0].plot(history.history['val_loss'], label = 'Validation Loss')\n",
    "plpl[0].legend()\n",
    "\n",
    "plpl[1].plot(history.history['accuracy'], label='Training Accuracy')\n",
    "plpl[1].plot(history.history['val_accuracy'], label = 'Validation Accuracy')\n",
    "plpl[1].legend()\n",
    "plt.show()\n"
   ]
  },
  {
   "cell_type": "code",
   "execution_count": 15,
   "id": "7a9077af",
   "metadata": {},
   "outputs": [
    {
     "name": "stdout",
     "output_type": "stream",
     "text": [
      "18/18 [==============================] - 0s 10ms/step - loss: 2.0387 - accuracy: 0.6127\n",
      "Test accuracy: 0.6127272844314575\n"
     ]
    }
   ],
   "source": [
    "#testing model\n",
    "test_loss, test_acc = model.evaluate(X_test, array_ohe_test)\n",
    "print('Test accuracy:', test_acc)\n"
   ]
  },
  {
   "cell_type": "markdown",
   "id": "2cfd1e7c",
   "metadata": {},
   "source": [
    "## Save Model"
   ]
  },
  {
   "cell_type": "code",
   "execution_count": 17,
   "id": "b0a95a5f",
   "metadata": {},
   "outputs": [
    {
     "name": "stdout",
     "output_type": "stream",
     "text": [
      "INFO:tensorflow:Assets written to: saved_model/my_model---2021_Nov_01-00_00\\assets\n"
     ]
    }
   ],
   "source": [
    "# #creating directory and saving model\n",
    "import datetime\n",
    "train_date = datetime.date.today().strftime(\"%Y_%h_%d\")\n",
    "model.save('saved_model/my_model---'+train_date)\n"
   ]
  }
 ],
 "metadata": {
  "kernelspec": {
   "display_name": "Python 3",
   "language": "python",
   "name": "python3"
  },
  "language_info": {
   "codemirror_mode": {
    "name": "ipython",
    "version": 3
   },
   "file_extension": ".py",
   "mimetype": "text/x-python",
   "name": "python",
   "nbconvert_exporter": "python",
   "pygments_lexer": "ipython3",
   "version": "3.8.8"
  }
 },
 "nbformat": 4,
 "nbformat_minor": 5
}
